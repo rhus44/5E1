{
 "cells": [
  {
   "cell_type": "code",
   "execution_count": 2,
   "metadata": {},
   "outputs": [
    {
     "name": "stderr",
     "output_type": "stream",
     "text": [
      "Using TensorFlow backend.\n"
     ]
    }
   ],
   "source": [
    "import os\n",
    "import matplotlib.pyplot as plt\n",
    "import scipy.misc\n",
    "import sklearn.feature_extraction\n",
    "import numpy as np\n",
    "import scipy.ndimage\n",
    "from skimage import measure, io\n",
    "from skimage import transform\n",
    "import train_rgb \n",
    "import skimage\n",
    "import json\n",
    "import datetime\n",
    "import pickle\n",
    "\n",
    "\n",
    "save_results = r'C:\\Users\\buggyr\\Mosaic_Experiments\\models'\n",
    "load_training = r'C:\\Users\\buggyr\\Mosaic_Experiments\\data\\external\\Training Images 3'"
   ]
  },
  {
   "cell_type": "code",
   "execution_count": 3,
   "metadata": {
    "collapsed": true
   },
   "outputs": [],
   "source": [
    "import keras\n",
    "from keras.models import Sequential\n",
    "from keras.layers import Conv2D, Activation, UpSampling2D,Reshape, Conv2DTranspose\n",
    "from keras.optimizers import Adadelta, Nadam, RMSprop\n",
    "from keras.models import load_model"
   ]
  },
  {
   "cell_type": "code",
   "execution_count": null,
   "metadata": {},
   "outputs": [],
   "source": [
    "f1 = 64\n",
    "f2 = 32\n",
    "f3 = 32\n",
    "ff = 3\n",
    "k1 = (9,9)\n",
    "k2 = (1,1)\n",
    "k3 = (5,5)\n",
    "\n",
    "model = Sequential()\n",
    "\n",
    "model.add(Conv2D(f1,k1, padding = 'same', input_shape=(None, None ,4), activation = 'relu'))\n",
    "\n",
    "model.add(Conv2DTranspose(f1, k1, strides=(2, 2), padding='same'))\n",
    "\n",
    "model.add(Conv2D(f1,k1, padding = 'same', activation='relu'))\n",
    "\n",
    "model.add(Conv2D(f2,k2, padding = 'same',activation = 'relu'))\n",
    "\n",
    "model.add(Conv2D(f3,k3, padding = 'same',activation = 'relu'))\n",
    "\n",
    "model.add(Conv2D(f3,k3, padding = 'same',activation = 'relu'))\n",
    "\n",
    "model.add(Conv2D(ff,k3, padding = 'same',activation = 'tanh'))\n",
    "\n",
    "modsum = model.summary()"
   ]
  },
  {
   "cell_type": "code",
   "execution_count": null,
   "metadata": {
    "collapsed": true
   },
   "outputs": [],
   "source": [
    "keyname = \"_5layer_Transpose\"\n",
    "now=datetime.datetime.now()\n",
    "save_file=os.path.join(save_results,now.strftime(\"%Y-%m-%d %H-%M\")+keyname)\n",
    "os.mkdir(save_file)\n",
    "save_pred = os.path.join(save_file,'Epoch_Predictions')\n",
    "os.mkdir(save_pred)\n",
    "save_model = os.path.join(save_file,'Epoch_Models')\n",
    "os.mkdir(save_model)\n",
    "save_test = os.path.join(save_file,'Test_Results')\n",
    "os.mkdir(save_test)\n",
    "\n",
    "with open(os.path.join(save_file,'Model_Summary.txt'),'w') as fh:\n",
    "    # Pass the file handle in as a lambda function to make it callable\n",
    "    model.summary(print_fn=lambda x: fh.write(x + '\\n'))\n",
    "    \n",
    "#rmsprop = RMSprop(lr=0.0005, rho=0.9, epsilon=1e-08, decay=0.0)\n",
    "optimizer_func = Nadam(lr=0.00002, beta_1=0.9, beta_2=0.999, epsilon=1e-08, schedule_decay=0.004)\n",
    "loss_func='mse'\n",
    "\n",
    "early_stopping = keras.callbacks.EarlyStopping(monitor='val_loss', patience=2)\n",
    "tbCallBack = keras.callbacks.TensorBoard(log_dir=os.path.join(save_file,'TNSR_BRD'), histogram_freq=0, write_graph=True, write_images=True)\n",
    "csv_logger = keras.callbacks.CSVLogger(os.path.join(save_file,'training.log'), separator=',', append=False)\n",
    "epoch_predict = train_rgb.Save_predictions(save_pred)\n",
    "model_checkpoint = keras.callbacks.ModelCheckpoint(os.path.join(save_model,'model.{epoch:02d}-{loss:.2f}.hdf5'), monitor='loss')\n",
    "\n",
    "model.compile(optimizer=optimizer_func,loss=loss_func)"
   ]
  },
  {
   "cell_type": "code",
   "execution_count": null,
   "metadata": {},
   "outputs": [],
   "source": [
    "fls = len(os.listdir(load_training))\n",
    "\n",
    "                            #train_dir, patch_size, batch_size\n",
    "train_generator = train_rgb.train_generator_rgb(load_training,64,32)\n",
    "history = model.fit_generator(generator = train_generator,steps_per_epoch=3*fls,\n",
    "                              verbose = 1, epochs = 200,callbacks = [tbCallBack,csv_logger,\n",
    "                                epoch_predict, model_checkpoint])\n",
    "print(history.history)\n",
    "\n",
    "model.save(os.path.join(save_file,'DeMos_mod.h5'))"
   ]
  },
  {
   "cell_type": "code",
   "execution_count": null,
   "metadata": {
    "collapsed": true
   },
   "outputs": [],
   "source": [
    "ptch_sizes = [64, 128]\n",
    "for ptch_size in ptch_sizes:\n",
    "    print(str(ptch_size))\n",
    "    \n",
    "    now=datetime.datetime.now()\n",
    "    save_file=os.path.join(save_results,now.strftime(\"%Y-%m-%d %H-%M\"))\n",
    "    os.mkdir(save_file)\n",
    "    save_pred = os.path.join(save_file,'Epoch_Predictions')\n",
    "    os.mkdir(save_pred)\n",
    "\n",
    "    with open(os.path.join(save_file,'Model_Summary.txt'),'w') as fh:\n",
    "        # Pass the file handle in as a lambda function to make it callable\n",
    "        model.summary(print_fn=lambda x: fh.write(x + '\\n'))\n",
    "\n",
    "    #rmsprop = RMSprop(lr=0.0005, rho=0.9, epsilon=1e-08, decay=0.0)\n",
    "    optimizer_func = Nadam(lr=0.00002, beta_1=0.9, beta_2=0.999, epsilon=1e-08, schedule_decay=0.004)\n",
    "    loss_func='mse'\n",
    "\n",
    "    early_stopping = keras.callbacks.EarlyStopping(monitor='val_loss', patience=2)\n",
    "    tbCallBack = keras.callbacks.TensorBoard(log_dir=os.path.join(save_file,'TNSR_BRD'), histogram_freq=0, write_graph=True, write_images=True)\n",
    "    csv_logger = keras.callbacks.CSVLogger(os.path.join(save_file,'training.log'), separator=',', append=False)\n",
    "    epoch_predict = train_rgb.Save_predictions(save_pred)\n",
    "\n",
    "\n",
    "    model.compile(optimizer=optimizer_func,loss=loss_func)\n",
    "\n",
    "    fls = len(os.listdir(load_training))\n",
    "\n",
    "                                #train_dir, patch_size, batch_size\n",
    "    train_generator = train_rgb.train_generator_rgb(load_training,ptch_size,32)\n",
    "    history = model.fit_generator(generator = train_generator,steps_per_epoch=3*fls, verbose = 1,\n",
    "                                 epochs = 200,callbacks = [tbCallBack,csv_logger,epoch_predict])\n",
    "    print(history.history)\n",
    "\n",
    "    model.save(os.path.join(save_file,'DeMos_mod.h5'))\n",
    "    \n",
    "    #Test Kodak\n",
    "    data ={}\n",
    "\n",
    "    kodak_dir = r'C:\\Users\\buggyr\\Mosaic_Experiments\\data\\interim\\Kodak'\n",
    "    ls = len(os.listdir(kodak_dir))\n",
    "\n",
    "    kodak_generator = train_rgb.predict_generator_rgb(kodak_dir)\n",
    "\n",
    "    # k_pred = model.predict_generator(kodak_generator, steps = ls)\n",
    "\n",
    "    res_Kodak = train_rgb.predict_generator(model,kodak_generator,ls,data)\n",
    "\n",
    "    data['Kodak_IMGS_PSNR'] = res_Kodak[0]\n",
    "    data['Kodak_IMGS_SSIM'] = res_Kodak[1]\n",
    "    data['Kodak_AVG_PSNR']  = res_Kodak[2]\n",
    "    data['Kodak_AVG_SSIM']  = res_Kodak[3]\n",
    "    \n",
    "    #Test McManus\n",
    "    McM_dir = r'C:\\Users\\buggyr\\Mosaic_Experiments\\data\\interim\\McM'\n",
    "    ls = len(os.listdir(McM_dir))\n",
    "\n",
    "    McM_generator = train_rgb.predict_generator_rgb(McM_dir)\n",
    "\n",
    "    # k_pred = model.predict_generator(kodak_generator, steps = ls)\n",
    "\n",
    "    res_McM = train_rgb.predict_generator(model,McM_generator,ls,data)\n",
    "\n",
    "    data['McM_IMGS_PSNR'] = res_McM[0]\n",
    "    data['McM_IMGS_SSIM'] = res_McM[1]\n",
    "    data['McM_AVG_PSNR']  = res_McM[2]\n",
    "    data['McM_AVG_SSIM']  = res_McM[3]\n",
    "    \n",
    "    #Write Results\n",
    "    data['Parameters'] = {\n",
    "        'Loss Function': loss_func,\n",
    "        'Optimizer':str(type(optimizer_func))\n",
    "    }\n",
    "    data['Training Set'] = {\n",
    "        'Training Path': load_training,\n",
    "    }\n",
    "\n",
    "    with open(os.path.join(save_file,'results.txt'), 'w') as outfile:  \n",
    "        json.dump(data, outfile,indent=4)"
   ]
  },
  {
   "cell_type": "code",
   "execution_count": null,
   "metadata": {},
   "outputs": [
    {
     "name": "stdout",
     "output_type": "stream",
     "text": [
      "C:\\Users\\buggyr\\Mosaic_Experiments\\data\\interim\\Kodak\\kodim01.png\n"
     ]
    }
   ],
   "source": [
    "#Test Kodak\n",
    "data ={}\n",
    "\n",
    "kodak_dir = r'C:\\Users\\buggyr\\Mosaic_Experiments\\data\\interim\\Kodak'\n",
    "ls = len(os.listdir(kodak_dir))\n",
    "\n",
    "kodak_generator = train_rgb.predict_generator_rgb(kodak_dir)\n",
    "\n",
    "# k_pred = model.predict_generator(kodak_generator, steps = ls)\n",
    "\n",
    "res_Kodak = train_rgb.predict_generator(model,kodak_generator,ls,data,5,save_test)\n",
    "\n",
    "data['Kodak_IMGS_PSNR'] = res_Kodak[0]\n",
    "data['Kodak_IMGS_SSIM'] = res_Kodak[1]\n",
    "data['Kodak_AVG_PSNR']  = res_Kodak[2]\n",
    "data['Kodak_AVG_SSIM']  = res_Kodak[3]"
   ]
  },
  {
   "cell_type": "code",
   "execution_count": null,
   "metadata": {},
   "outputs": [],
   "source": [
    "#Test McManus\n",
    "McM_dir = r'C:\\Users\\buggyr\\Mosaic_Experiments\\data\\interim\\McM'\n",
    "ls = len(os.listdir(McM_dir))\n",
    "\n",
    "McM_generator = train_rgb.predict_generator_rgb(McM_dir)\n",
    "\n",
    "# k_pred = model.predict_generator(kodak_generator, steps = ls)\n",
    "\n",
    "res_McM = train_rgb.predict_generator(model,McM_generator,ls,data,5,save_test)\n",
    "\n",
    "data['McM_IMGS_PSNR'] = res_McM[0]\n",
    "data['McM_IMGS_SSIM'] = res_McM[1]\n",
    "data['McM_AVG_PSNR']  = res_McM[2]\n",
    "data['McM_AVG_SSIM']  = res_McM[3]"
   ]
  },
  {
   "cell_type": "code",
   "execution_count": null,
   "metadata": {
    "collapsed": true
   },
   "outputs": [],
   "source": [
    "#Write Results\n",
    "data['Parameters'] = {\n",
    "    'Loss Function': loss_func,\n",
    "    'Optimizer':str(type(optimizer_func))\n",
    "}\n",
    "data['Training Set'] = {\n",
    "    'Training Path': load_training,\n",
    "}\n",
    "\n",
    "with open(os.path.join(save_file,'results.txt'), 'w') as outfile:  \n",
    "    json.dump(data, outfile,indent=4)"
   ]
  },
  {
   "cell_type": "code",
   "execution_count": 5,
   "metadata": {},
   "outputs": [
    {
     "data": {
      "text/plain": [
       "<module 'train_rgb' from 'C:\\\\Users\\\\buggyr\\\\Mosaic_Experiments\\\\src\\\\train_rgb.py'>"
      ]
     },
     "execution_count": 5,
     "metadata": {},
     "output_type": "execute_result"
    }
   ],
   "source": [
    "import importlib\n",
    "importlib.reload(train_rgb)"
   ]
  },
  {
   "cell_type": "code",
   "execution_count": 4,
   "metadata": {
    "collapsed": true
   },
   "outputs": [],
   "source": [
    "model = keras.models.load_model(r'C:\\Users\\buggyr\\Mosaic_Experiments\\models\\2017-11-20 20-01 RGB_ptch32\\DeMos_mod.h5')"
   ]
  },
  {
   "cell_type": "code",
   "execution_count": null,
   "metadata": {
    "collapsed": true
   },
   "outputs": [],
   "source": [
    "model.save(os.path.join(save_file,'DeMos_mod.h5'))"
   ]
  },
  {
   "cell_type": "code",
   "execution_count": null,
   "metadata": {
    "collapsed": true
   },
   "outputs": [],
   "source": [
    "save_file =r'C:\\Users\\buggyr\\Mosaic_Experiments\\models\\2017-11-22 12-53 RGB_ptch128'\n",
    "save_pred = os.path.join(save_file,'Epoch_Predictions')\n",
    "tbCallBack = keras.callbacks.TensorBoard(log_dir=os.path.join(save_file,'TNSR_BRD'), histogram_freq=0, write_graph=True, write_images=True)\n",
    "csv_logger = keras.callbacks.CSVLogger(os.path.join(save_file,'training.log'), separator=',', append=False)\n",
    "epoch_predict = train_rgb.Save_predictions(save_pred)"
   ]
  },
  {
   "cell_type": "code",
   "execution_count": 7,
   "metadata": {
    "collapsed": true
   },
   "outputs": [],
   "source": [
    "save_test = r'C:\\Users\\buggyr\\Mosaic_Experiments\\models\\2017-11-20 20-01 RGB_ptch32\\Test_Results'"
   ]
  },
  {
   "cell_type": "code",
   "execution_count": null,
   "metadata": {
    "collapsed": true
   },
   "outputs": [],
   "source": []
  }
 ],
 "metadata": {
  "kernelspec": {
   "display_name": "Python 3",
   "language": "python",
   "name": "python3"
  },
  "language_info": {
   "codemirror_mode": {
    "name": "ipython",
    "version": 3
   },
   "file_extension": ".py",
   "mimetype": "text/x-python",
   "name": "python",
   "nbconvert_exporter": "python",
   "pygments_lexer": "ipython3",
   "version": "3.6.3"
  }
 },
 "nbformat": 4,
 "nbformat_minor": 2
}
