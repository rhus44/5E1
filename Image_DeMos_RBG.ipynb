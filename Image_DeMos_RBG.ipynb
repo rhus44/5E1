{
 "cells": [
  {
   "cell_type": "code",
   "execution_count": 19,
   "metadata": {
    "collapsed": true
   },
   "outputs": [],
   "source": [
    "import os\n",
    "os.environ[\"CUDA_VISIBLE_DEVICES\"] = \"1\"\n",
    "import matplotlib.pyplot as plt\n",
    "import scipy.misc\n",
    "import sklearn.feature_extraction\n",
    "import numpy as np\n",
    "import scipy.ndimage\n",
    "from skimage import measure, io\n",
    "from skimage import transform\n",
    "import train_rgb \n",
    "import skimage\n",
    "import json\n",
    "import datetime\n",
    "import pickle\n",
    "import tensorflow as tf\n",
    "from keras.backend.tensorflow_backend import set_session\n",
    "\n",
    "#config = tf.ConfigProto()\n",
    "#config.gpu_options.per_process_gpu_memory_fraction = 0.4\n",
    "#set_session(tf.Session(config=config))\n",
    "\n",
    "save_results = r'C:\\Users\\buggyr\\Mosaic_Experiments\\models'\n",
    "epoch_cb_dir = r'C:\\Users\\buggyr\\Mosaic_Experiments\\data\\interim\\Callback_images'\n",
    "load_training = r'C:\\Users\\buggyr\\Mosaic_Experiments\\data\\external\\D1'"
   ]
  },
  {
   "cell_type": "code",
   "execution_count": 20,
   "metadata": {
    "collapsed": true
   },
   "outputs": [],
   "source": [
    "import keras\n",
    "from keras.models import *\n",
    "from keras.models import Sequential\n",
    "from keras.layers import Conv2D, Activation, UpSampling2D,Reshape, Input, Conv2DTranspose, Lambda\n",
    "from keras.optimizers import Adadelta, Nadam, RMSprop\n",
    "from keras.models import load_model"
   ]
  },
  {
   "cell_type": "code",
   "execution_count": 23,
   "metadata": {},
   "outputs": [
    {
     "name": "stdout",
     "output_type": "stream",
     "text": [
      "_________________________________________________________________\n",
      "Layer (type)                 Output Shape              Param #   \n",
      "=================================================================\n",
      "input_3 (InputLayer)         (None, None, None, 4)     0         \n",
      "_________________________________________________________________\n",
      "conv2d_13 (Conv2D)           (None, None, None, 64)    2368      \n",
      "_________________________________________________________________\n",
      "conv2d_14 (Conv2D)           (None, None, None, 64)    36928     \n",
      "_________________________________________________________________\n",
      "conv2d_15 (Conv2D)           (None, None, None, 64)    36928     \n",
      "_________________________________________________________________\n",
      "conv2d_transpose_3 (Conv2DTr (None, None, None, 64)    16448     \n",
      "_________________________________________________________________\n",
      "conv2d_16 (Conv2D)           (None, None, None, 64)    36928     \n",
      "_________________________________________________________________\n",
      "conv2d_17 (Conv2D)           (None, None, None, 64)    36928     \n",
      "_________________________________________________________________\n",
      "conv2d_18 (Conv2D)           (None, None, None, 3)     1731      \n",
      "_________________________________________________________________\n",
      "clipper (Lambda)             (None, None, None, 3)     0         \n",
      "=================================================================\n",
      "Total params: 168,259\n",
      "Trainable params: 168,259\n",
      "Non-trainable params: 0\n",
      "_________________________________________________________________\n"
     ]
    }
   ],
   "source": [
    "f1 = 64\n",
    "f2 = 32\n",
    "f3 = 32\n",
    "ff = 3\n",
    "k1 = (9,9)\n",
    "k2 = (1,1)\n",
    "k3 = (5,5)\n",
    "\n",
    "\n",
    "inputs = Input(shape = (None, None, 4))\n",
    "\n",
    "conv1 = Conv2D(f1, (3, 3), activation='relu', padding='same')(inputs)\n",
    "\n",
    "conv2 = Conv2D(f1, (3, 3), activation='relu', padding='same')(conv1)\n",
    "\n",
    "conv3 = Conv2D(f1, (3, 3), activation='relu', padding='same')(conv2)\n",
    "\n",
    "conv4 = Conv2DTranspose(f1, (2, 2), strides=(2, 2), padding='same')(conv3)\n",
    "\n",
    "conv5 = Conv2D(f1, (3, 3), activation='relu', padding='same')(conv4)\n",
    "\n",
    "conv6 = Conv2D(f1, (3, 3), activation='relu', padding='same')(conv5)\n",
    "\n",
    "conv7 = Conv2D(3, (3, 3), activation='relu', padding='same')(conv6)\n",
    "\n",
    "#out = Lambda(train_rgb.clipper, name = 'clipper')(conv7)\n",
    "\n",
    "model = Model(inputs=[inputs], outputs=[out])\n",
    "\n",
    "optimizer_func = Nadam(lr=0.00002, beta_1=0.9, beta_2=0.999, epsilon=1e-08, schedule_decay=0.004)\n",
    "loss_func='mse'\n",
    "model.compile(optimizer=optimizer_func,loss=loss_func)\n",
    "\n",
    "modsum = model.summary()"
   ]
  },
  {
   "cell_type": "code",
   "execution_count": 24,
   "metadata": {
    "collapsed": true
   },
   "outputs": [],
   "source": [
    "keyname = \"_6layer_Transpose\"\n",
    "now=datetime.datetime.now()\n",
    "save_file=os.path.join(save_results,now.strftime(\"%Y-%m-%d %H-%M\")+keyname)\n",
    "os.mkdir(save_file)\n",
    "save_pred = os.path.join(save_file,'Epoch_Predictions')\n",
    "os.mkdir(save_pred)\n",
    "save_model = os.path.join(save_file,'Epoch_Models')\n",
    "os.mkdir(save_model)\n",
    "save_test = os.path.join(save_file,'Test_Results')\n",
    "os.mkdir(save_test)\n",
    "\n",
    "with open(os.path.join(save_file,'Model_Summary.txt'),'w') as fh:\n",
    "    # Pass the file handle in as a lambda function to make it callable\n",
    "    model.summary(print_fn=lambda x: fh.write(x + '\\n'))\n",
    "\n",
    "early_stopping = keras.callbacks.EarlyStopping(monitor='val_loss', patience=2)\n",
    "tbCallBack = keras.callbacks.TensorBoard(log_dir=os.path.join(save_file,'TNSR_BRD'), histogram_freq=0, write_graph=True, write_images=True)\n",
    "csv_logger = keras.callbacks.CSVLogger(os.path.join(save_file,'training.log'), separator=',', append=False)\n",
    "epoch_predict = train_rgb.Save_predictions(save_pred, epoch_cb_dir)\n",
    "model_checkpoint = keras.callbacks.ModelCheckpoint(os.path.join(save_model,'model.{epoch:02d}-{loss:.2f}.hdf5'), monitor='loss')"
   ]
  },
  {
   "cell_type": "code",
   "execution_count": 25,
   "metadata": {},
   "outputs": [
    {
     "name": "stdout",
     "output_type": "stream",
     "text": [
      "Epoch 1/200\n",
      "5/6 [========================>.....] - ETA: 0s - loss: 0.4585C:\\Users\\buggyr\\Mosaic_Experiments\\data\\interim\\Callback_images\\1.tif\n"
     ]
    },
    {
     "name": "stderr",
     "output_type": "stream",
     "text": [
      "C:\\ProgramData\\Anaconda3\\lib\\site-packages\\skimage\\io\\_io.py:132: UserWarning: C:\\Users\\buggyr\\Mosaic_Experiments\\models\\2017-12-28 21-36_6layer_Transpose\\Epoch_Predictions\\0_1.tif is a low contrast image\n",
      "  warn('%s is a low contrast image' % fname)\n",
      "C:\\ProgramData\\Anaconda3\\lib\\site-packages\\skimage\\io\\_io.py:132: UserWarning: C:\\Users\\buggyr\\Mosaic_Experiments\\models\\2017-12-28 21-36_6layer_Transpose\\Epoch_Predictions\\0_7.tif is a low contrast image\n",
      "  warn('%s is a low contrast image' % fname)\n",
      "C:\\ProgramData\\Anaconda3\\lib\\site-packages\\skimage\\io\\_io.py:132: UserWarning: C:\\Users\\buggyr\\Mosaic_Experiments\\models\\2017-12-28 21-36_6layer_Transpose\\Epoch_Predictions\\0_kodim01.png is a low contrast image\n",
      "  warn('%s is a low contrast image' % fname)\n"
     ]
    },
    {
     "name": "stdout",
     "output_type": "stream",
     "text": [
      "C:\\Users\\buggyr\\Mosaic_Experiments\\data\\interim\\Callback_images\\7.tif\n",
      "C:\\Users\\buggyr\\Mosaic_Experiments\\data\\interim\\Callback_images\\kodim01.png\n",
      "C:\\Users\\buggyr\\Mosaic_Experiments\\data\\interim\\Callback_images\\kodim08.png\n",
      "C:\\Users\\buggyr\\Mosaic_Experiments\\data\\interim\\Callback_images\\kodim19.png\n"
     ]
    },
    {
     "name": "stderr",
     "output_type": "stream",
     "text": [
      "C:\\ProgramData\\Anaconda3\\lib\\site-packages\\skimage\\io\\_io.py:132: UserWarning: C:\\Users\\buggyr\\Mosaic_Experiments\\models\\2017-12-28 21-36_6layer_Transpose\\Epoch_Predictions\\0_kodim08.png is a low contrast image\n",
      "  warn('%s is a low contrast image' % fname)\n",
      "C:\\ProgramData\\Anaconda3\\lib\\site-packages\\skimage\\io\\_io.py:132: UserWarning: C:\\Users\\buggyr\\Mosaic_Experiments\\models\\2017-12-28 21-36_6layer_Transpose\\Epoch_Predictions\\0_kodim19.png is a low contrast image\n",
      "  warn('%s is a low contrast image' % fname)\n"
     ]
    },
    {
     "ename": "UnicodeDecodeError",
     "evalue": "'rawunicodeescape' codec can't decode bytes in position 84-85: truncated \\UXXXXXXXX escape",
     "output_type": "error",
     "traceback": [
      "\u001b[1;31m---------------------------------------------------------------------------\u001b[0m",
      "\u001b[1;31mUnicodeDecodeError\u001b[0m                        Traceback (most recent call last)",
      "\u001b[1;32m<ipython-input-25-d26923046855>\u001b[0m in \u001b[0;36m<module>\u001b[1;34m()\u001b[0m\n\u001b[0;32m      5\u001b[0m history = model.fit_generator(generator = train_generator,steps_per_epoch=3*fls,\n\u001b[0;32m      6\u001b[0m                               verbose = 1, epochs = 200,callbacks = [tbCallBack,csv_logger,\n\u001b[1;32m----> 7\u001b[1;33m                                 epoch_predict, model_checkpoint])\n\u001b[0m\u001b[0;32m      8\u001b[0m \u001b[0mprint\u001b[0m\u001b[1;33m(\u001b[0m\u001b[0mhistory\u001b[0m\u001b[1;33m.\u001b[0m\u001b[0mhistory\u001b[0m\u001b[1;33m)\u001b[0m\u001b[1;33m\u001b[0m\u001b[0m\n\u001b[0;32m      9\u001b[0m \u001b[1;33m\u001b[0m\u001b[0m\n",
      "\u001b[1;32mC:\\ProgramData\\Anaconda3\\lib\\site-packages\\keras\\legacy\\interfaces.py\u001b[0m in \u001b[0;36mwrapper\u001b[1;34m(*args, **kwargs)\u001b[0m\n\u001b[0;32m     85\u001b[0m                 warnings.warn('Update your `' + object_name +\n\u001b[0;32m     86\u001b[0m                               '` call to the Keras 2 API: ' + signature, stacklevel=2)\n\u001b[1;32m---> 87\u001b[1;33m             \u001b[1;32mreturn\u001b[0m \u001b[0mfunc\u001b[0m\u001b[1;33m(\u001b[0m\u001b[1;33m*\u001b[0m\u001b[0margs\u001b[0m\u001b[1;33m,\u001b[0m \u001b[1;33m**\u001b[0m\u001b[0mkwargs\u001b[0m\u001b[1;33m)\u001b[0m\u001b[1;33m\u001b[0m\u001b[0m\n\u001b[0m\u001b[0;32m     88\u001b[0m         \u001b[0mwrapper\u001b[0m\u001b[1;33m.\u001b[0m\u001b[0m_original_function\u001b[0m \u001b[1;33m=\u001b[0m \u001b[0mfunc\u001b[0m\u001b[1;33m\u001b[0m\u001b[0m\n\u001b[0;32m     89\u001b[0m         \u001b[1;32mreturn\u001b[0m \u001b[0mwrapper\u001b[0m\u001b[1;33m\u001b[0m\u001b[0m\n",
      "\u001b[1;32mC:\\ProgramData\\Anaconda3\\lib\\site-packages\\keras\\engine\\training.py\u001b[0m in \u001b[0;36mfit_generator\u001b[1;34m(self, generator, steps_per_epoch, epochs, verbose, callbacks, validation_data, validation_steps, class_weight, max_queue_size, workers, use_multiprocessing, shuffle, initial_epoch)\u001b[0m\n\u001b[0;32m   2080\u001b[0m                         \u001b[1;32mbreak\u001b[0m\u001b[1;33m\u001b[0m\u001b[0m\n\u001b[0;32m   2081\u001b[0m \u001b[1;33m\u001b[0m\u001b[0m\n\u001b[1;32m-> 2082\u001b[1;33m                 \u001b[0mcallbacks\u001b[0m\u001b[1;33m.\u001b[0m\u001b[0mon_epoch_end\u001b[0m\u001b[1;33m(\u001b[0m\u001b[0mepoch\u001b[0m\u001b[1;33m,\u001b[0m \u001b[0mepoch_logs\u001b[0m\u001b[1;33m)\u001b[0m\u001b[1;33m\u001b[0m\u001b[0m\n\u001b[0m\u001b[0;32m   2083\u001b[0m                 \u001b[0mepoch\u001b[0m \u001b[1;33m+=\u001b[0m \u001b[1;36m1\u001b[0m\u001b[1;33m\u001b[0m\u001b[0m\n\u001b[0;32m   2084\u001b[0m                 \u001b[1;32mif\u001b[0m \u001b[0mcallback_model\u001b[0m\u001b[1;33m.\u001b[0m\u001b[0mstop_training\u001b[0m\u001b[1;33m:\u001b[0m\u001b[1;33m\u001b[0m\u001b[0m\n",
      "\u001b[1;32mC:\\ProgramData\\Anaconda3\\lib\\site-packages\\keras\\callbacks.py\u001b[0m in \u001b[0;36mon_epoch_end\u001b[1;34m(self, epoch, logs)\u001b[0m\n\u001b[0;32m     75\u001b[0m         \u001b[0mlogs\u001b[0m \u001b[1;33m=\u001b[0m \u001b[0mlogs\u001b[0m \u001b[1;32mor\u001b[0m \u001b[1;33m{\u001b[0m\u001b[1;33m}\u001b[0m\u001b[1;33m\u001b[0m\u001b[0m\n\u001b[0;32m     76\u001b[0m         \u001b[1;32mfor\u001b[0m \u001b[0mcallback\u001b[0m \u001b[1;32min\u001b[0m \u001b[0mself\u001b[0m\u001b[1;33m.\u001b[0m\u001b[0mcallbacks\u001b[0m\u001b[1;33m:\u001b[0m\u001b[1;33m\u001b[0m\u001b[0m\n\u001b[1;32m---> 77\u001b[1;33m             \u001b[0mcallback\u001b[0m\u001b[1;33m.\u001b[0m\u001b[0mon_epoch_end\u001b[0m\u001b[1;33m(\u001b[0m\u001b[0mepoch\u001b[0m\u001b[1;33m,\u001b[0m \u001b[0mlogs\u001b[0m\u001b[1;33m)\u001b[0m\u001b[1;33m\u001b[0m\u001b[0m\n\u001b[0m\u001b[0;32m     78\u001b[0m \u001b[1;33m\u001b[0m\u001b[0m\n\u001b[0;32m     79\u001b[0m     \u001b[1;32mdef\u001b[0m \u001b[0mon_batch_begin\u001b[0m\u001b[1;33m(\u001b[0m\u001b[0mself\u001b[0m\u001b[1;33m,\u001b[0m \u001b[0mbatch\u001b[0m\u001b[1;33m,\u001b[0m \u001b[0mlogs\u001b[0m\u001b[1;33m=\u001b[0m\u001b[1;32mNone\u001b[0m\u001b[1;33m)\u001b[0m\u001b[1;33m:\u001b[0m\u001b[1;33m\u001b[0m\u001b[0m\n",
      "\u001b[1;32mC:\\ProgramData\\Anaconda3\\lib\\site-packages\\keras\\callbacks.py\u001b[0m in \u001b[0;36mon_epoch_end\u001b[1;34m(self, epoch, logs)\u001b[0m\n\u001b[0;32m    426\u001b[0m                     \u001b[0mself\u001b[0m\u001b[1;33m.\u001b[0m\u001b[0mmodel\u001b[0m\u001b[1;33m.\u001b[0m\u001b[0msave_weights\u001b[0m\u001b[1;33m(\u001b[0m\u001b[0mfilepath\u001b[0m\u001b[1;33m,\u001b[0m \u001b[0moverwrite\u001b[0m\u001b[1;33m=\u001b[0m\u001b[1;32mTrue\u001b[0m\u001b[1;33m)\u001b[0m\u001b[1;33m\u001b[0m\u001b[0m\n\u001b[0;32m    427\u001b[0m                 \u001b[1;32melse\u001b[0m\u001b[1;33m:\u001b[0m\u001b[1;33m\u001b[0m\u001b[0m\n\u001b[1;32m--> 428\u001b[1;33m                     \u001b[0mself\u001b[0m\u001b[1;33m.\u001b[0m\u001b[0mmodel\u001b[0m\u001b[1;33m.\u001b[0m\u001b[0msave\u001b[0m\u001b[1;33m(\u001b[0m\u001b[0mfilepath\u001b[0m\u001b[1;33m,\u001b[0m \u001b[0moverwrite\u001b[0m\u001b[1;33m=\u001b[0m\u001b[1;32mTrue\u001b[0m\u001b[1;33m)\u001b[0m\u001b[1;33m\u001b[0m\u001b[0m\n\u001b[0m\u001b[0;32m    429\u001b[0m \u001b[1;33m\u001b[0m\u001b[0m\n\u001b[0;32m    430\u001b[0m \u001b[1;33m\u001b[0m\u001b[0m\n",
      "\u001b[1;32mC:\\ProgramData\\Anaconda3\\lib\\site-packages\\keras\\engine\\topology.py\u001b[0m in \u001b[0;36msave\u001b[1;34m(self, filepath, overwrite, include_optimizer)\u001b[0m\n\u001b[0;32m   2551\u001b[0m         \"\"\"\n\u001b[0;32m   2552\u001b[0m         \u001b[1;32mfrom\u001b[0m \u001b[1;33m.\u001b[0m\u001b[1;33m.\u001b[0m\u001b[0mmodels\u001b[0m \u001b[1;32mimport\u001b[0m \u001b[0msave_model\u001b[0m\u001b[1;33m\u001b[0m\u001b[0m\n\u001b[1;32m-> 2553\u001b[1;33m         \u001b[0msave_model\u001b[0m\u001b[1;33m(\u001b[0m\u001b[0mself\u001b[0m\u001b[1;33m,\u001b[0m \u001b[0mfilepath\u001b[0m\u001b[1;33m,\u001b[0m \u001b[0moverwrite\u001b[0m\u001b[1;33m,\u001b[0m \u001b[0minclude_optimizer\u001b[0m\u001b[1;33m)\u001b[0m\u001b[1;33m\u001b[0m\u001b[0m\n\u001b[0m\u001b[0;32m   2554\u001b[0m \u001b[1;33m\u001b[0m\u001b[0m\n\u001b[0;32m   2555\u001b[0m     \u001b[1;32mdef\u001b[0m \u001b[0msave_weights\u001b[0m\u001b[1;33m(\u001b[0m\u001b[0mself\u001b[0m\u001b[1;33m,\u001b[0m \u001b[0mfilepath\u001b[0m\u001b[1;33m,\u001b[0m \u001b[0moverwrite\u001b[0m\u001b[1;33m=\u001b[0m\u001b[1;32mTrue\u001b[0m\u001b[1;33m)\u001b[0m\u001b[1;33m:\u001b[0m\u001b[1;33m\u001b[0m\u001b[0m\n",
      "\u001b[1;32mC:\\ProgramData\\Anaconda3\\lib\\site-packages\\keras\\models.py\u001b[0m in \u001b[0;36msave_model\u001b[1;34m(model, filepath, overwrite, include_optimizer)\u001b[0m\n\u001b[0;32m    105\u001b[0m         f.attrs['model_config'] = json.dumps({\n\u001b[0;32m    106\u001b[0m             \u001b[1;34m'class_name'\u001b[0m\u001b[1;33m:\u001b[0m \u001b[0mmodel\u001b[0m\u001b[1;33m.\u001b[0m\u001b[0m__class__\u001b[0m\u001b[1;33m.\u001b[0m\u001b[0m__name__\u001b[0m\u001b[1;33m,\u001b[0m\u001b[1;33m\u001b[0m\u001b[0m\n\u001b[1;32m--> 107\u001b[1;33m             \u001b[1;34m'config'\u001b[0m\u001b[1;33m:\u001b[0m \u001b[0mmodel\u001b[0m\u001b[1;33m.\u001b[0m\u001b[0mget_config\u001b[0m\u001b[1;33m(\u001b[0m\u001b[1;33m)\u001b[0m\u001b[1;33m\u001b[0m\u001b[0m\n\u001b[0m\u001b[0;32m    108\u001b[0m         }, default=get_json_type).encode('utf8')\n\u001b[0;32m    109\u001b[0m \u001b[1;33m\u001b[0m\u001b[0m\n",
      "\u001b[1;32mC:\\ProgramData\\Anaconda3\\lib\\site-packages\\keras\\engine\\topology.py\u001b[0m in \u001b[0;36mget_config\u001b[1;34m(self)\u001b[0m\n\u001b[0;32m   2324\u001b[0m         \u001b[1;32mfor\u001b[0m \u001b[0mlayer\u001b[0m \u001b[1;32min\u001b[0m \u001b[0mself\u001b[0m\u001b[1;33m.\u001b[0m\u001b[0mlayers\u001b[0m\u001b[1;33m:\u001b[0m  \u001b[1;31m# From the earliest layers on.\u001b[0m\u001b[1;33m\u001b[0m\u001b[0m\n\u001b[0;32m   2325\u001b[0m             \u001b[0mlayer_class_name\u001b[0m \u001b[1;33m=\u001b[0m \u001b[0mlayer\u001b[0m\u001b[1;33m.\u001b[0m\u001b[0m__class__\u001b[0m\u001b[1;33m.\u001b[0m\u001b[0m__name__\u001b[0m\u001b[1;33m\u001b[0m\u001b[0m\n\u001b[1;32m-> 2326\u001b[1;33m             \u001b[0mlayer_config\u001b[0m \u001b[1;33m=\u001b[0m \u001b[0mlayer\u001b[0m\u001b[1;33m.\u001b[0m\u001b[0mget_config\u001b[0m\u001b[1;33m(\u001b[0m\u001b[1;33m)\u001b[0m\u001b[1;33m\u001b[0m\u001b[0m\n\u001b[0m\u001b[0;32m   2327\u001b[0m             \u001b[0mfiltered_inbound_nodes\u001b[0m \u001b[1;33m=\u001b[0m \u001b[1;33m[\u001b[0m\u001b[1;33m]\u001b[0m\u001b[1;33m\u001b[0m\u001b[0m\n\u001b[0;32m   2328\u001b[0m             \u001b[1;32mfor\u001b[0m \u001b[0moriginal_node_index\u001b[0m\u001b[1;33m,\u001b[0m \u001b[0mnode\u001b[0m \u001b[1;32min\u001b[0m \u001b[0menumerate\u001b[0m\u001b[1;33m(\u001b[0m\u001b[0mlayer\u001b[0m\u001b[1;33m.\u001b[0m\u001b[0minbound_nodes\u001b[0m\u001b[1;33m)\u001b[0m\u001b[1;33m:\u001b[0m\u001b[1;33m\u001b[0m\u001b[0m\n",
      "\u001b[1;32mC:\\ProgramData\\Anaconda3\\lib\\site-packages\\keras\\layers\\core.py\u001b[0m in \u001b[0;36mget_config\u001b[1;34m(self)\u001b[0m\n\u001b[0;32m    657\u001b[0m     \u001b[1;32mdef\u001b[0m \u001b[0mget_config\u001b[0m\u001b[1;33m(\u001b[0m\u001b[0mself\u001b[0m\u001b[1;33m)\u001b[0m\u001b[1;33m:\u001b[0m\u001b[1;33m\u001b[0m\u001b[0m\n\u001b[0;32m    658\u001b[0m         \u001b[1;32mif\u001b[0m \u001b[0misinstance\u001b[0m\u001b[1;33m(\u001b[0m\u001b[0mself\u001b[0m\u001b[1;33m.\u001b[0m\u001b[0mfunction\u001b[0m\u001b[1;33m,\u001b[0m \u001b[0mpython_types\u001b[0m\u001b[1;33m.\u001b[0m\u001b[0mLambdaType\u001b[0m\u001b[1;33m)\u001b[0m\u001b[1;33m:\u001b[0m\u001b[1;33m\u001b[0m\u001b[0m\n\u001b[1;32m--> 659\u001b[1;33m             \u001b[0mfunction\u001b[0m \u001b[1;33m=\u001b[0m \u001b[0mfunc_dump\u001b[0m\u001b[1;33m(\u001b[0m\u001b[0mself\u001b[0m\u001b[1;33m.\u001b[0m\u001b[0mfunction\u001b[0m\u001b[1;33m)\u001b[0m\u001b[1;33m\u001b[0m\u001b[0m\n\u001b[0m\u001b[0;32m    660\u001b[0m             \u001b[0mfunction_type\u001b[0m \u001b[1;33m=\u001b[0m \u001b[1;34m'lambda'\u001b[0m\u001b[1;33m\u001b[0m\u001b[0m\n\u001b[0;32m    661\u001b[0m         \u001b[1;32melse\u001b[0m\u001b[1;33m:\u001b[0m\u001b[1;33m\u001b[0m\u001b[0m\n",
      "\u001b[1;32mC:\\ProgramData\\Anaconda3\\lib\\site-packages\\keras\\utils\\generic_utils.py\u001b[0m in \u001b[0;36mfunc_dump\u001b[1;34m(func)\u001b[0m\n\u001b[0;32m    173\u001b[0m         \u001b[0mA\u001b[0m \u001b[0mtuple\u001b[0m\u001b[0;31m \u001b[0m\u001b[0;31m`\u001b[0m\u001b[1;33m(\u001b[0m\u001b[0mcode\u001b[0m\u001b[1;33m,\u001b[0m \u001b[0mdefaults\u001b[0m\u001b[1;33m,\u001b[0m \u001b[0mclosure\u001b[0m\u001b[1;33m)\u001b[0m\u001b[0;31m`\u001b[0m\u001b[1;33m.\u001b[0m\u001b[1;33m\u001b[0m\u001b[0m\n\u001b[0;32m    174\u001b[0m     \"\"\"\n\u001b[1;32m--> 175\u001b[1;33m     \u001b[0mcode\u001b[0m \u001b[1;33m=\u001b[0m \u001b[0mmarshal\u001b[0m\u001b[1;33m.\u001b[0m\u001b[0mdumps\u001b[0m\u001b[1;33m(\u001b[0m\u001b[0mfunc\u001b[0m\u001b[1;33m.\u001b[0m\u001b[0m__code__\u001b[0m\u001b[1;33m)\u001b[0m\u001b[1;33m.\u001b[0m\u001b[0mdecode\u001b[0m\u001b[1;33m(\u001b[0m\u001b[1;34m'raw_unicode_escape'\u001b[0m\u001b[1;33m)\u001b[0m\u001b[1;33m\u001b[0m\u001b[0m\n\u001b[0m\u001b[0;32m    176\u001b[0m     \u001b[0mdefaults\u001b[0m \u001b[1;33m=\u001b[0m \u001b[0mfunc\u001b[0m\u001b[1;33m.\u001b[0m\u001b[0m__defaults__\u001b[0m\u001b[1;33m\u001b[0m\u001b[0m\n\u001b[0;32m    177\u001b[0m     \u001b[1;32mif\u001b[0m \u001b[0mfunc\u001b[0m\u001b[1;33m.\u001b[0m\u001b[0m__closure__\u001b[0m\u001b[1;33m:\u001b[0m\u001b[1;33m\u001b[0m\u001b[0m\n",
      "\u001b[1;31mUnicodeDecodeError\u001b[0m: 'rawunicodeescape' codec can't decode bytes in position 84-85: truncated \\UXXXXXXXX escape"
     ]
    }
   ],
   "source": [
    "fls = len(os.listdir(load_training))\n",
    "\n",
    "                            #train_dir, patch_size, batch_size\n",
    "train_generator = train_rgb.train_generator_rgb(load_training,64,32)\n",
    "history = model.fit_generator(generator = train_generator,steps_per_epoch=3*fls,\n",
    "                              verbose = 1, epochs = 200,callbacks = [tbCallBack,csv_logger,\n",
    "                                epoch_predict, model_checkpoint])\n",
    "print(history.history)\n",
    "\n",
    "model.save(os.path.join(save_file,'DeMos_mod.h5'))"
   ]
  },
  {
   "cell_type": "code",
   "execution_count": null,
   "metadata": {
    "collapsed": true
   },
   "outputs": [],
   "source": [
    "ptch_sizes = [64, 128]\n",
    "for ptch_size in ptch_sizes:\n",
    "    print(str(ptch_size))\n",
    "    \n",
    "    now=datetime.datetime.now()\n",
    "    save_file=os.path.join(save_results,now.strftime(\"%Y-%m-%d %H-%M\"))\n",
    "    os.mkdir(save_file)\n",
    "    save_pred = os.path.join(save_file,'Epoch_Predictions')\n",
    "    os.mkdir(save_pred)\n",
    "\n",
    "    with open(os.path.join(save_file,'Model_Summary.txt'),'w') as fh:\n",
    "        # Pass the file handle in as a lambda function to make it callable\n",
    "        model.summary(print_fn=lambda x: fh.write(x + '\\n'))\n",
    "\n",
    "    #rmsprop = RMSprop(lr=0.0005, rho=0.9, epsilon=1e-08, decay=0.0)\n",
    "    optimizer_func = Nadam(lr=0.00002, beta_1=0.9, beta_2=0.999, epsilon=1e-08, schedule_decay=0.004)\n",
    "    loss_func='mse'\n",
    "\n",
    "    early_stopping = keras.callbacks.EarlyStopping(monitor='val_loss', patience=2)\n",
    "    tbCallBack = keras.callbacks.TensorBoard(log_dir=os.path.join(save_file,'TNSR_BRD'), histogram_freq=0, write_graph=True, write_images=True)\n",
    "    csv_logger = keras.callbacks.CSVLogger(os.path.join(save_file,'training.log'), separator=',', append=False)\n",
    "    epoch_predict = train_rgb.Save_predictions(save_pred)\n",
    "\n",
    "\n",
    "    model.compile(optimizer=optimizer_func,loss=loss_func)\n",
    "\n",
    "    fls = len(os.listdir(load_training))\n",
    "\n",
    "                                #train_dir, patch_size, batch_size\n",
    "    train_generator = train_rgb.train_generator_rgb(load_training,ptch_size,32)\n",
    "    history = model.fit_generator(generator = train_generator,steps_per_epoch=3*fls, verbose = 1,\n",
    "                                 epochs = 200,callbacks = [tbCallBack,csv_logger,epoch_predict])\n",
    "    print(history.history)\n",
    "\n",
    "    model.save(os.path.join(save_file,'DeMos_mod.h5'))\n",
    "    \n",
    "    #Test Kodak\n",
    "    data ={}\n",
    "\n",
    "    kodak_dir = r'C:\\Users\\buggyr\\Mosaic_Experiments\\data\\interim\\Kodak'\n",
    "    ls = len(os.listdir(kodak_dir))\n",
    "\n",
    "    kodak_generator = train_rgb.predict_generator_rgb(kodak_dir)\n",
    "\n",
    "    # k_pred = model.predict_generator(kodak_generator, steps = ls)\n",
    "\n",
    "    res_Kodak = train_rgb.predict_generator(model,kodak_generator,ls,data)\n",
    "\n",
    "    data['Kodak_IMGS_PSNR'] = res_Kodak[0]\n",
    "    data['Kodak_IMGS_SSIM'] = res_Kodak[1]\n",
    "    data['Kodak_AVG_PSNR']  = res_Kodak[2]\n",
    "    data['Kodak_AVG_SSIM']  = res_Kodak[3]\n",
    "    \n",
    "    #Test McManus\n",
    "    McM_dir = r'C:\\Users\\buggyr\\Mosaic_Experiments\\data\\interim\\McM'\n",
    "    ls = len(os.listdir(McM_dir))\n",
    "\n",
    "    McM_generator = train_rgb.predict_generator_rgb(McM_dir)\n",
    "\n",
    "    # k_pred = model.predict_generator(kodak_generator, steps = ls)\n",
    "\n",
    "    res_McM = train_rgb.predict_generator(model,McM_generator,ls,data)\n",
    "\n",
    "    data['McM_IMGS_PSNR'] = res_McM[0]\n",
    "    data['McM_IMGS_SSIM'] = res_McM[1]\n",
    "    data['McM_AVG_PSNR']  = res_McM[2]\n",
    "    data['McM_AVG_SSIM']  = res_McM[3]\n",
    "    \n",
    "    #Write Results\n",
    "    data['Parameters'] = {\n",
    "        'Loss Function': loss_func,\n",
    "        'Optimizer':str(type(optimizer_func))\n",
    "    }\n",
    "    data['Training Set'] = {\n",
    "        'Training Path': load_training,\n",
    "    }\n",
    "\n",
    "    with open(os.path.join(save_file,'results.txt'), 'w') as outfile:  \n",
    "        json.dump(data, outfile,indent=4)"
   ]
  },
  {
   "cell_type": "code",
   "execution_count": 27,
   "metadata": {},
   "outputs": [
    {
     "name": "stdout",
     "output_type": "stream",
     "text": [
      "C:\\Users\\buggyr\\Mosaic_Experiments\\data\\interim\\Kodak\\kodim01.png\n",
      "0.0\n",
      "C:\\Users\\buggyr\\Mosaic_Experiments\\data\\interim\\Kodak\\kodim02.png\n",
      "0.0\n",
      "C:\\Users\\buggyr\\Mosaic_Experiments\\data\\interim\\Kodak\\kodim03.png\n",
      "0.0\n",
      "C:\\Users\\buggyr\\Mosaic_Experiments\\data\\interim\\Kodak\\kodim04.png\n",
      "0.0\n",
      "C:\\Users\\buggyr\\Mosaic_Experiments\\data\\interim\\Kodak\\kodim05.png\n",
      "0.0\n",
      "C:\\Users\\buggyr\\Mosaic_Experiments\\data\\interim\\Kodak\\kodim06.png\n",
      "0.0\n",
      "C:\\Users\\buggyr\\Mosaic_Experiments\\data\\interim\\Kodak\\kodim07.png\n",
      "0.0\n",
      "C:\\Users\\buggyr\\Mosaic_Experiments\\data\\interim\\Kodak\\kodim08.png\n",
      "0.0\n",
      "C:\\Users\\buggyr\\Mosaic_Experiments\\data\\interim\\Kodak\\kodim09.png\n",
      "0.0\n",
      "C:\\Users\\buggyr\\Mosaic_Experiments\\data\\interim\\Kodak\\kodim10.png\n",
      "0.0\n",
      "C:\\Users\\buggyr\\Mosaic_Experiments\\data\\interim\\Kodak\\kodim11.png\n",
      "0.0\n",
      "C:\\Users\\buggyr\\Mosaic_Experiments\\data\\interim\\Kodak\\kodim12.png\n",
      "0.0\n",
      "C:\\Users\\buggyr\\Mosaic_Experiments\\data\\interim\\Kodak\\kodim13.png\n",
      "0.0\n",
      "C:\\Users\\buggyr\\Mosaic_Experiments\\data\\interim\\Kodak\\kodim14.png\n",
      "0.0\n",
      "C:\\Users\\buggyr\\Mosaic_Experiments\\data\\interim\\Kodak\\kodim15.png\n",
      "0.0\n",
      "C:\\Users\\buggyr\\Mosaic_Experiments\\data\\interim\\Kodak\\kodim16.png\n",
      "0.0\n",
      "C:\\Users\\buggyr\\Mosaic_Experiments\\data\\interim\\Kodak\\kodim17.png\n",
      "0.0\n",
      "C:\\Users\\buggyr\\Mosaic_Experiments\\data\\interim\\Kodak\\kodim18.png\n",
      "0.0\n",
      "C:\\Users\\buggyr\\Mosaic_Experiments\\data\\interim\\Kodak\\kodim19.png\n",
      "0.0\n",
      "C:\\Users\\buggyr\\Mosaic_Experiments\\data\\interim\\Kodak\\kodim20.png\n",
      "0.0\n",
      "C:\\Users\\buggyr\\Mosaic_Experiments\\data\\interim\\Kodak\\kodim21.png\n",
      "0.0\n",
      "C:\\Users\\buggyr\\Mosaic_Experiments\\data\\interim\\Kodak\\kodim22.png\n",
      "0.0\n",
      "C:\\Users\\buggyr\\Mosaic_Experiments\\data\\interim\\Kodak\\kodim23.png\n",
      "0.0\n",
      "C:\\Users\\buggyr\\Mosaic_Experiments\\data\\interim\\Kodak\\kodim24.png\n",
      "0.0\n",
      "Kodak PSNR Average: 39.3494751152\n",
      "Kodak SSIM Average: 0.983100033572\n"
     ]
    }
   ],
   "source": [
    "#Test Kodak\n",
    "data ={}\n",
    "\n",
    "kodak_dir = r'C:\\Users\\buggyr\\Mosaic_Experiments\\data\\interim\\Kodak'\n",
    "ls = len(os.listdir(kodak_dir))\n",
    "\n",
    "kodak_generator = train_rgb.predict_generator_rgb(kodak_dir)\n",
    "\n",
    "# k_pred = model.predict_generator(kodak_generator, steps = ls)\n",
    "\n",
    "res_Kodak = train_rgb.predict_generator(model,kodak_generator,ls,data,5,save_test)\n",
    "\n",
    "data['Kodak_IMGS_PSNR'] = res_Kodak[0]\n",
    "data['Kodak_IMGS_SSIM'] = res_Kodak[1]\n",
    "data['Kodak_AVG_PSNR']  = res_Kodak[2]\n",
    "data['Kodak_AVG_SSIM']  = res_Kodak[3]"
   ]
  },
  {
   "cell_type": "code",
   "execution_count": 24,
   "metadata": {},
   "outputs": [
    {
     "name": "stdout",
     "output_type": "stream",
     "text": [
      "C:\\Users\\buggyr\\Mosaic_Experiments\\data\\interim\\McM\\1.tif\n",
      "0.0\n",
      "C:\\Users\\buggyr\\Mosaic_Experiments\\data\\interim\\McM\\10.tif\n",
      "0.0\n",
      "C:\\Users\\buggyr\\Mosaic_Experiments\\data\\interim\\McM\\11.tif\n",
      "0.0\n",
      "C:\\Users\\buggyr\\Mosaic_Experiments\\data\\interim\\McM\\12.tif\n",
      "0.0\n",
      "C:\\Users\\buggyr\\Mosaic_Experiments\\data\\interim\\McM\\13.tif\n",
      "0.0\n",
      "C:\\Users\\buggyr\\Mosaic_Experiments\\data\\interim\\McM\\14.tif\n",
      "0.0\n",
      "C:\\Users\\buggyr\\Mosaic_Experiments\\data\\interim\\McM\\15.tif\n",
      "0.0\n",
      "C:\\Users\\buggyr\\Mosaic_Experiments\\data\\interim\\McM\\16.tif\n",
      "0.0\n",
      "C:\\Users\\buggyr\\Mosaic_Experiments\\data\\interim\\McM\\17.tif\n",
      "0.0\n",
      "C:\\Users\\buggyr\\Mosaic_Experiments\\data\\interim\\McM\\18.tif\n",
      "0.0\n",
      "C:\\Users\\buggyr\\Mosaic_Experiments\\data\\interim\\McM\\2.tif\n",
      "0.0\n",
      "C:\\Users\\buggyr\\Mosaic_Experiments\\data\\interim\\McM\\3.tif\n",
      "0.0\n",
      "C:\\Users\\buggyr\\Mosaic_Experiments\\data\\interim\\McM\\4.tif\n",
      "0.0\n",
      "C:\\Users\\buggyr\\Mosaic_Experiments\\data\\interim\\McM\\5.tif\n",
      "0.0\n",
      "C:\\Users\\buggyr\\Mosaic_Experiments\\data\\interim\\McM\\6.tif\n",
      "0.0\n",
      "C:\\Users\\buggyr\\Mosaic_Experiments\\data\\interim\\McM\\7.tif\n",
      "0.0\n",
      "C:\\Users\\buggyr\\Mosaic_Experiments\\data\\interim\\McM\\8.tif\n",
      "0.0\n",
      "C:\\Users\\buggyr\\Mosaic_Experiments\\data\\interim\\McM\\9.tif\n",
      "0.0\n",
      "Kodak PSNR Average: 36.0799474594\n",
      "Kodak SSIM Average: 0.954251943333\n"
     ]
    }
   ],
   "source": [
    "#Test McManus\n",
    "McM_dir = r'C:\\Users\\buggyr\\Mosaic_Experiments\\data\\interim\\McM'\n",
    "ls = len(os.listdir(McM_dir))\n",
    "\n",
    "McM_generator = train_rgb.predict_generator_rgb(McM_dir)\n",
    "\n",
    "# k_pred = model.predict_generator(kodak_generator, steps = ls)\n",
    "\n",
    "res_McM = train_rgb.predict_generator(model,McM_generator,ls,data,5,save_test)\n",
    "\n",
    "data['McM_IMGS_PSNR'] = res_McM[0]\n",
    "data['McM_IMGS_SSIM'] = res_McM[1]\n",
    "data['McM_AVG_PSNR']  = res_McM[2]\n",
    "data['McM_AVG_SSIM']  = res_McM[3]"
   ]
  },
  {
   "cell_type": "code",
   "execution_count": 25,
   "metadata": {
    "collapsed": true
   },
   "outputs": [],
   "source": [
    "#Write Results\n",
    "data['Parameters'] = {\n",
    "    'Loss Function': loss_func,\n",
    "    'Optimizer':str(type(optimizer_func))\n",
    "}\n",
    "data['Training Set'] = {\n",
    "    'Training Path': load_training,\n",
    "}\n",
    "\n",
    "with open(os.path.join(save_file,'results.txt'), 'w') as outfile:  \n",
    "    json.dump(data, outfile,indent=4)"
   ]
  },
  {
   "cell_type": "code",
   "execution_count": 17,
   "metadata": {},
   "outputs": [
    {
     "data": {
      "text/plain": [
       "<module 'train_rgb' from 'C:\\\\Users\\\\buggyr\\\\Mosaic_Experiments\\\\src\\\\train_rgb.py'>"
      ]
     },
     "execution_count": 17,
     "metadata": {},
     "output_type": "execute_result"
    }
   ],
   "source": [
    "import importlib\n",
    "importlib.reload(train_rgb)"
   ]
  },
  {
   "cell_type": "code",
   "execution_count": 26,
   "metadata": {
    "collapsed": true
   },
   "outputs": [],
   "source": [
    "model = keras.models.load_model(r'C:\\Users\\buggyr\\Mosaic_Experiments\\models\\2017-12-27 21-49_6layer_Transpose\\DeMos_mod.h5')"
   ]
  },
  {
   "cell_type": "code",
   "execution_count": null,
   "metadata": {
    "collapsed": true
   },
   "outputs": [],
   "source": [
    "model.save(os.path.join(save_file,'DeMos_mod.h5'))"
   ]
  },
  {
   "cell_type": "code",
   "execution_count": 15,
   "metadata": {
    "collapsed": true
   },
   "outputs": [],
   "source": [
    "save_file =r'C:\\Users\\buggyr\\Mosaic_Experiments\\models\\2017-12-20 19-06_10_layer_Transpose'\n",
    "save_pred = os.path.join(save_file,'Epoch_Predictions')\n",
    "tbCallBack = keras.callbacks.TensorBoard(log_dir=os.path.join(save_file,'TNSR_BRD'), histogram_freq=0, write_graph=True, write_images=True)\n",
    "csv_logger = keras.callbacks.CSVLogger(os.path.join(save_file,'training.log'), separator=',', append=False)\n",
    "epoch_predict = train_rgb.Save_predictions(save_pred)"
   ]
  },
  {
   "cell_type": "code",
   "execution_count": 4,
   "metadata": {
    "collapsed": true
   },
   "outputs": [],
   "source": [
    "save_test = r'C:\\Users\\buggyr\\Mosaic_Experiments\\models\\2017-12-20 19-06_10_layer_Transpose\\Test_Results'"
   ]
  },
  {
   "cell_type": "code",
   "execution_count": null,
   "metadata": {
    "collapsed": true
   },
   "outputs": [],
   "source": []
  }
 ],
 "metadata": {
  "kernelspec": {
   "display_name": "Python 3",
   "language": "python",
   "name": "python3"
  },
  "language_info": {
   "codemirror_mode": {
    "name": "ipython",
    "version": 3
   },
   "file_extension": ".py",
   "mimetype": "text/x-python",
   "name": "python",
   "nbconvert_exporter": "python",
   "pygments_lexer": "ipython3",
   "version": "3.6.3"
  }
 },
 "nbformat": 4,
 "nbformat_minor": 2
}
