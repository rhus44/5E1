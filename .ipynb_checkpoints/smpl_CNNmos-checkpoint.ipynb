{
 "cells": [
  {
   "cell_type": "code",
   "execution_count": null,
   "metadata": {},
   "outputs": [],
   "source": [
    "import os\n",
    "import matplotlib.pyplot as plt\n",
    "import scipy.misc\n",
    "import sklearn.feature_extraction\n",
    "import numpy as np\n",
    "import scipy.ndimage\n",
    "from skimage import measure, io\n",
    "from skimage import transform\n",
    "import train_r \n",
    "import skimage\n",
    "import json\n",
    "import datetime\n",
    "import pickle\n",
    "\n",
    "\n",
    "save_results = r'C:\\Users\\buggyr\\Mosaic_Experiments\\models'\n",
    "load_training = r'C:\\Users\\buggyr\\Mosaic_Experiments\\data\\processed\\Training Images 3\\Training_Patches32'\n",
    "\n",
    "trainmospatches=np.load(os.path.join(load_training,'input_img_mos_patch.npy'))\n",
    "trainpatches=np.load(os.path.join(load_training,'input_img_yuv.npy'))\n",
    "\n",
    "trainmospatches = (trainmospatches/255)*2 - 1\n",
    "trainpatches = (trainpatches/255)*2 - 1\n",
    "print('Inputs Loaded')\n",
    "\n",
    "# vdir=r'C:\\Users\\buggyr\\Mosaic_Experiments\\data\\processed\\Validation Images1'\n",
    "# validmospatches=np.load(os.path.join(vdir,'input_img_mos_patch.npy'))\n",
    "# validpatches=np.load(os.path.join(vdir,'input_img_patch.npy'))\n",
    "\n",
    "# valdata=(validmospatches,validpatches)"
   ]
  },
  {
   "cell_type": "code",
   "execution_count": null,
   "metadata": {
    "collapsed": true
   },
   "outputs": [],
   "source": [
    "import keras\n",
    "from keras.models import Sequential\n",
    "from keras.layers import Conv2D, Activation, UpSampling2D, Reshape, Lambda\n",
    "from keras.optimizers import Adadelta, Nadam, RMSprop\n",
    "from keras.models import load_model"
   ]
  },
  {
   "cell_type": "code",
   "execution_count": null,
   "metadata": {
    "scrolled": true
   },
   "outputs": [],
   "source": [
    "f1 = 64\n",
    "f2 = 32\n",
    "f3 = 32\n",
    "ff = 3\n",
    "k1 = (9,9)\n",
    "k2 = (1,1)\n",
    "k3 = (5,5)\n",
    "\n",
    "model = Sequential()\n",
    "\n",
    "model.add(Conv2D(f1,k1, padding = 'same', activation = 'relu', input_shape=(None, None ,4)))\n",
    "\n",
    "model.add(UpSampling2D(size=(2,2)))\n",
    "\n",
    "model.add(Conv2D(f2,k2, padding = 'same', activation='relu'))\n",
    "\n",
    "model.add(Conv2D(f3,k3, padding = 'same',activation = 'relu'))\n",
    "\n",
    "model.add(Conv2D(ff,k3, padding = 'same',activation = 'tanh'))\n",
    "\n",
    "model.add(Lambda(train_r.rgb2yuv))\n",
    "\n",
    "#model.add(Reshape((64,64,3)))\n",
    "modsum = model.summary()\n"
   ]
  },
  {
   "cell_type": "code",
   "execution_count": null,
   "metadata": {
    "collapsed": true
   },
   "outputs": [],
   "source": [
    "now=datetime.datetime.now()\n",
    "save_file=os.path.join(save_results,now.strftime(\"%Y-%m-%d %H-%M\"))\n",
    "os.mkdir(save_file)\n",
    "save_pred = os.path.join(save_file,'Epoch_Predictions')\n",
    "os.mkdir(save_pred)\n",
    "\n",
    "with open(os.path.join(save_file,'Model_Summary.txt'),'w') as fh:\n",
    "    # Pass the file handle in as a lambda function to make it callable\n",
    "    model.summary(print_fn=lambda x: fh.write(x + '\\n'))\n",
    "    \n",
    "#rmsprop = RMSprop(lr=0.0005, rho=0.9, epsilon=1e-08, decay=0.0)\n",
    "optimizer_func = Nadam(lr=0.00002, beta_1=0.9, beta_2=0.999, epsilon=1e-08, schedule_decay=0.004)\n",
    "loss_func='mse'\n",
    "\n",
    "early_stopping = keras.callbacks.EarlyStopping(monitor='val_loss', patience=2)\n",
    "tbCallBack = keras.callbacks.TensorBoard(log_dir=os.path.join(save_file,'TNSR_BRD'), histogram_freq=0, write_graph=True, write_images=True)\n",
    "csv_logger = keras.callbacks.CSVLogger(os.path.join(save_file,'training.log'), separator=',', append=False)\n",
    "epoch_predict = train_r.Save_predictions(save_pred)\n",
    "\n",
    "\n",
    "model.compile(optimizer=optimizer_func,loss=loss_func)"
   ]
  },
  {
   "cell_type": "code",
   "execution_count": null,
   "metadata": {
    "scrolled": true
   },
   "outputs": [],
   "source": [
    "history = model.fit(trainmospatches, trainpatches,validation_split=0.2, batch_size=32, \n",
    "                    epochs=50,verbose=1,callbacks=[tbCallBack,csv_logger,epoch_predict])\n",
    "print(history.history)\n",
    "\n",
    "model.save(os.path.join(save_file,'DeMos_mod.h5'))"
   ]
  },
  {
   "cell_type": "code",
   "execution_count": null,
   "metadata": {
    "collapsed": true
   },
   "outputs": [],
   "source": [
    "# cdir=r'C:\\Train Images 2\\Test Patches'\n",
    "# testmospatches=np.load(os.path.join(cdir,'input_img_mos_patch.npy'))\n",
    "# testpatches=np.load(os.path.join(cdir,'input_img_patch.npy'))\n",
    "\n",
    "# print(model.evaluate(testpatches,testmospatches, verbose=1,sample_weight=None))\n",
    "\n",
    "# print(testpatches[10].shape)\n",
    "# ts1=testpatches.astype(np.uint8)\n",
    "# g=ts1[10][:,:,1]\n",
    "# b=ts1[10][:,:,2]\n",
    "# r=ts1[10][:,:,3]\n",
    "\n",
    "# h=np.stack((r,g,b),2)\n",
    "# print(h.shape)\n",
    "\n",
    "# plt.imshow(h)\n",
    "# plt.show()\n",
    "# pred_image = model.predict(np.array([testpatches[10]]), batch_size=1)[0]\n",
    "# print(np.shape(np.array([testpatches[10]])))\n",
    "# print(np.shape(pred_image))\n",
    "# plt.imshow(pred_image.astype(np.uint8))\n",
    "# plt.show()\n",
    "# plt.imshow(testmospatches[10])\n",
    "# plt.show()\n",
    "\n",
    "# mse = model.evaluate(testpatches[10:11],testmospatches[10:11],batch_size=1)\n",
    "# print(mse)"
   ]
  },
  {
   "cell_type": "code",
   "execution_count": null,
   "metadata": {
    "collapsed": true,
    "scrolled": false
   },
   "outputs": [],
   "source": [
    "i6=np.load(r'C:\\Users\\buggyr\\Mosaic_Experiments\\data\\processed\\Kodak_test\\mos_npy\\kodim19.npy')\n",
    "g=i6[:,:,0]\n",
    "b=i6[:,:,1]\n",
    "r=i6[:,:,3]\n",
    "i62=np.stack((r,g,b),2)\n",
    "i62=i62.astype(np.float32)\n",
    "plt.imshow(i62)\n",
    "plt.show()\n",
    "pred1 = model.predict(np.array([i6]), batch_size=1)[0]\n",
    "print(pred1.shape)\n",
    "i7 = abs(pred1)\n",
    "plt.imshow(i7)\n",
    "plt.show()\n",
    "\n",
    "i8=np.load(r'C:\\Users\\buggyr\\Mosaic_Experiments\\data\\processed\\Kodak_test\\img_npy\\kodim19.npy')\n",
    "plt.imshow(i8)\n",
    "plt.show()\n",
    "\n",
    "i62=(transform.rescale(i62,(2,2))).astype(np.float32) \n",
    "\n",
    "slh=os.path.join(save_file,'lighthouse_images')\n",
    "os.mkdir(slh)\n",
    "\n",
    "skimage.io.imsave(os.path.join(slh,'input mosaiced.png'),i62)\n",
    "skimage.io.imsave(os.path.join(slh,'predicted.png'),i7)\n",
    "skimage.io.imsave(os.path.join(slh,'original.png'),i8)\n",
    "\n",
    "psnr_mos = measure.compare_psnr(i62,i8)\n",
    "print('Mosaiced and Interpolated PSNR: '+str(psnr_mos))\n",
    "\n",
    "psnr_pred = measure.compare_psnr(i7,i8)\n",
    "print('Predicted PSNR: '+str(psnr_pred))\n",
    "\n",
    "ssim= measure.compare_ssim(i7,i8,multichannel=True)\n",
    "print('Predicted SSIM: '+str(ssim))\n",
    "\n"
   ]
  },
  {
   "cell_type": "code",
   "execution_count": null,
   "metadata": {
    "collapsed": true
   },
   "outputs": [],
   "source": [
    "pred_imgs = (model.predict(np.load(r'C:\\Users\\buggyr\\Mosaic_Experiments\\data\\processed\\McM_test\\mos_npy\\sv.npy'), batch_size=1)).astype(np.uint8)\n",
    "orig_imgs = (np.load(r'C:\\Users\\buggyr\\Mosaic_Experiments\\data\\processed\\McM_test\\img_npy\\sv.npy')).astype(np.uint8)\n",
    "psnr=0\n",
    "smpls=orig_imgs.shape[0]\n",
    "for i in range(0,smpls):\n",
    "    psnr = psnr + measure.compare_psnr(pred_imgs[i,:,:,:],orig_imgs[i,:,:,:])\n",
    "    ssim= ssim + measure.compare_ssim(pred_imgs[i,:,:,:],orig_imgs[i,:,:,:],multichannel=True)\n",
    "    \n",
    "psnr_McM_avg = psnr/smpls\n",
    "ssim_McM_avg = ssim/smpls    \n",
    "print('McM PSNR Average: '+str(psnr/smpls))\n",
    "print('McM SSIM Average: '+str(ssim_McM_avg))\n"
   ]
  },
  {
   "cell_type": "code",
   "execution_count": null,
   "metadata": {
    "collapsed": true
   },
   "outputs": [],
   "source": [
    "import pickle\n",
    "k_orig = r'C:\\Users\\buggyr\\Mosaic_Experiments\\data\\processed\\Kodak_test\\img_lst'\n",
    "k_mos = r'C:\\Users\\buggyr\\Mosaic_Experiments\\data\\processed\\Kodak_test\\mos_lst'\n",
    "\n",
    "with open(k_orig, \"rb\") as fp1:   # Unpickling\n",
    "    k_or_imgs = pickle.load(fp1)\n",
    "    \n",
    "with open(k_mos, \"rb\") as fp2:   # Unpickling\n",
    "    k_mos_imgs = pickle.load(fp2)\n",
    "\n",
    "psnr = 0\n",
    "ssim = 0\n",
    "smpls=len(k_mos_imgs)\n",
    "for i in range(0,smpls):\n",
    "    pred_imgs = (model.predict(np.array([k_mos_imgs[i]]),batch_size=1)).astype(np.uint8)\n",
    "    orig_imgs = (k_or_imgs[i]).astype(np.uint8) \n",
    "    psnr = psnr + measure.compare_psnr(pred_imgs[0,:,:,:],orig_imgs)\n",
    "    ssim= ssim + measure.compare_ssim(pred_imgs[0,:,:,:],orig_imgs,multichannel=True)\n",
    "psnr_K_avg = psnr/smpls\n",
    "ssim_K_avg = ssim/smpls\n",
    "print('Kodak PSNR Average: '+str(psnr_K_avg))\n",
    "print('Kodak SSIM Average: '+str(ssim_K_avg))"
   ]
  },
  {
   "cell_type": "code",
   "execution_count": null,
   "metadata": {
    "collapsed": true
   },
   "outputs": [],
   "source": [
    "data = {}\n",
    "data['Results'] = {\n",
    "    'McM PSNR':str(psnr_McM_avg),\n",
    "    'McM SSIM':str(ssim_McM_avg),\n",
    "    'Kodak PSNR':str(psnr_K_avg),\n",
    "    'Kodak SSIM':str(ssim_K_avg),\n",
    "}\n",
    "data['Parameters'] = {\n",
    "    'Loss Function': loss_func,\n",
    "    'Optimizer':str(type(optimizer_func))\n",
    "}\n",
    "data['Training Set'] = {\n",
    "    'Training Path': load_training,\n",
    "}\n",
    "\n",
    "with open(os.path.join(save_file,'results.txt'), 'w') as outfile:  \n",
    "    json.dump(data, outfile,indent=0)"
   ]
  },
  {
   "cell_type": "code",
   "execution_count": 39,
   "metadata": {},
   "outputs": [
    {
     "data": {
      "text/plain": [
       "<module 'train_r' from 'C:\\\\Users\\\\buggyr\\\\Mosaic_Experiments\\\\src\\\\train_r.py'>"
      ]
     },
     "execution_count": 39,
     "metadata": {},
     "output_type": "execute_result"
    }
   ],
   "source": [
    "import importlib\n",
    "importlib.reload(train_r)"
   ]
  },
  {
   "cell_type": "code",
   "execution_count": null,
   "metadata": {
    "collapsed": true
   },
   "outputs": [],
   "source": []
  }
 ],
 "metadata": {
  "kernelspec": {
   "display_name": "Python 3",
   "language": "python",
   "name": "python3"
  },
  "language_info": {
   "codemirror_mode": {
    "name": "ipython",
    "version": 3
   },
   "file_extension": ".py",
   "mimetype": "text/x-python",
   "name": "python",
   "nbconvert_exporter": "python",
   "pygments_lexer": "ipython3",
   "version": "3.6.3"
  }
 },
 "nbformat": 4,
 "nbformat_minor": 2
}
