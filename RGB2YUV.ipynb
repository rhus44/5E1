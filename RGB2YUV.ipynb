{
 "cells": [
  {
   "cell_type": "code",
   "execution_count": null,
   "metadata": {},
   "outputs": [],
   "source": [
    "import numpy as np\n",
    "\n",
    "f1 = r'C:\\Users\\buggyr\\Mosaic_Experiments\\data\\processed\\Training Images 3\\Training_Patches32\\input_img_patch.npy'\n",
    "\n",
    "orig = np.load(f1)\n",
    "orig = (orig/127.5) - 1\n",
    "#shape = [n,64,64,3]\n",
    "num = orig.shape[0]\n",
    "ls = []\n",
    "for i in range (0,num-1):\n",
    "    print(i)\n",
    "    r = orig[i,:,:,0]\n",
    "    g = orig[i,:,:,1]\n",
    "    b = orig[i,:,:,2]\n",
    "    \n",
    "    Y = 0.299 * r + 0.587 * g + 0.114 * b\n",
    "    U = 0.492 * (b - Y)\n",
    "    V = 0.877 * (r - Y)\n",
    "    \n",
    "    ls.append((np.stack((Y,U,V))).astype(np.float32))\n",
    "    \n",
    "np.save(r'C:\\Users\\buggyr\\Mosaic_Experiments\\data\\processed\\input_yuv32', np.stack(ls,0))    \n",
    "\n",
    "print('done')\n",
    "\n",
    "\n"
   ]
  },
  {
   "cell_type": "code",
   "execution_count": 15,
   "metadata": {},
   "outputs": [
    {
     "name": "stdout",
     "output_type": "stream",
     "text": [
      "(5, 5, 3)\n",
      "[[[ 0.767 -0.217  0.45 ]\n",
      "  [ 0.767 -0.217  0.45 ]\n",
      "  [ 0.767 -0.217  0.45 ]\n",
      "  [ 0.767 -0.217  0.45 ]\n",
      "  [ 0.767 -0.217  0.45 ]]\n",
      "\n",
      " [[ 0.767 -0.217  0.45 ]\n",
      "  [ 0.767 -0.217  0.45 ]\n",
      "  [ 0.767 -0.217  0.45 ]\n",
      "  [ 0.767 -0.217  0.45 ]\n",
      "  [ 0.767 -0.217  0.45 ]]\n",
      "\n",
      " [[ 0.767 -0.217  0.45 ]\n",
      "  [ 0.767 -0.217  0.45 ]\n",
      "  [ 0.767 -0.217  0.45 ]\n",
      "  [ 0.767 -0.217  0.45 ]\n",
      "  [ 0.767 -0.217  0.45 ]]\n",
      "\n",
      " [[ 0.767 -0.217  0.45 ]\n",
      "  [ 0.767 -0.217  0.45 ]\n",
      "  [ 0.767 -0.217  0.45 ]\n",
      "  [ 0.767 -0.217  0.45 ]\n",
      "  [ 0.767 -0.217  0.45 ]]\n",
      "\n",
      " [[ 0.767 -0.217  0.45 ]\n",
      "  [ 0.767 -0.217  0.45 ]\n",
      "  [ 0.767 -0.217  0.45 ]\n",
      "  [ 0.767 -0.217  0.45 ]\n",
      "  [ 0.767 -0.217  0.45 ]]]\n",
      "[[[  0 125   0]\n",
      "  [  0 125   0]\n",
      "  [  0 125   0]\n",
      "  [  0 125   0]\n",
      "  [  0 125   0]]\n",
      "\n",
      " [[  0 125   0]\n",
      "  [  0 125   0]\n",
      "  [  0 125   0]\n",
      "  [  0 125   0]\n",
      "  [  0 125   0]]\n",
      "\n",
      " [[  0 125   0]\n",
      "  [  0 125   0]\n",
      "  [  0 125   0]\n",
      "  [  0 125   0]\n",
      "  [  0 125   0]]\n",
      "\n",
      " [[  0 125   0]\n",
      "  [  0 125   0]\n",
      "  [  0 125   0]\n",
      "  [  0 125   0]\n",
      "  [  0 125   0]]\n",
      "\n",
      " [[  0 125   0]\n",
      "  [  0 125   0]\n",
      "  [  0 125   0]\n",
      "  [  0 125   0]\n",
      "  [  0 125   0]]]\n"
     ]
    }
   ],
   "source": [
    "import cv2\n",
    "import numpy as np\n",
    "\n",
    "q = (np.ones((5,5,3))).astype(np.uint8)\n",
    "print(q.shape)\n",
    "\n",
    "yb = cv2.cvtColor(q,cv2.COLOR_YUV2BGR)\n",
    "\n",
    "by = cv2.cvtColor(q,cv2.COLOR_BGR2YUV)\n",
    "\n",
    "m1= np.array([[0.299, 0.587, 0.114],[-0.147, - 0.289, 0.436],[0.615,-0.515,-0.1]])\n",
    "\n",
    "yb1 = np.dot(q,m1)\n",
    "print(yb1)\n",
    "print(yb)\n",
    "\n",
    "m = np.array([[ 0.11400, 0.436, -0.1],\n",
    "                 [0.58700, -0.289, -0.515],\n",
    "                 [ 0.29900, -0.147,  0.615]])"
   ]
  },
  {
   "cell_type": "code",
   "execution_count": 8,
   "metadata": {},
   "outputs": [
    {
     "data": {
      "text/plain": [
       "array([[[  1, 128, 128],\n",
       "        [  1, 128, 128],\n",
       "        [  1, 128, 128],\n",
       "        [  1, 128, 128],\n",
       "        [  1, 128, 128]],\n",
       "\n",
       "       [[  1, 128, 128],\n",
       "        [  1, 128, 128],\n",
       "        [  1, 128, 128],\n",
       "        [  1, 128, 128],\n",
       "        [  1, 128, 128]],\n",
       "\n",
       "       [[  1, 128, 128],\n",
       "        [  1, 128, 128],\n",
       "        [  1, 128, 128],\n",
       "        [  1, 128, 128],\n",
       "        [  1, 128, 128]],\n",
       "\n",
       "       [[  1, 128, 128],\n",
       "        [  1, 128, 128],\n",
       "        [  1, 128, 128],\n",
       "        [  1, 128, 128],\n",
       "        [  1, 128, 128]],\n",
       "\n",
       "       [[  1, 128, 128],\n",
       "        [  1, 128, 128],\n",
       "        [  1, 128, 128],\n",
       "        [  1, 128, 128],\n",
       "        [  1, 128, 128]]], dtype=uint8)"
      ]
     },
     "execution_count": 8,
     "metadata": {},
     "output_type": "execute_result"
    }
   ],
   "source": []
  },
  {
   "cell_type": "code",
   "execution_count": null,
   "metadata": {
    "collapsed": true
   },
   "outputs": [],
   "source": []
  }
 ],
 "metadata": {
  "kernelspec": {
   "display_name": "Python 3",
   "language": "python",
   "name": "python3"
  },
  "language_info": {
   "codemirror_mode": {
    "name": "ipython",
    "version": 3
   },
   "file_extension": ".py",
   "mimetype": "text/x-python",
   "name": "python",
   "nbconvert_exporter": "python",
   "pygments_lexer": "ipython3",
   "version": "3.6.3"
  }
 },
 "nbformat": 4,
 "nbformat_minor": 2
}
