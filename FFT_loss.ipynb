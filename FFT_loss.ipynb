{
 "cells": [
  {
   "cell_type": "code",
   "execution_count": 1,
   "metadata": {},
   "outputs": [
    {
     "name": "stderr",
     "output_type": "stream",
     "text": [
      "C:\\ProgramData\\Anaconda3\\lib\\site-packages\\h5py\\__init__.py:34: FutureWarning: Conversion of the second argument of issubdtype from `float` to `np.floating` is deprecated. In future, it will be treated as `np.float64 == np.dtype(float).type`.\n",
      "  from ._conv import register_converters as _register_converters\n",
      "Using TensorFlow backend.\n"
     ]
    }
   ],
   "source": [
    "import os\n",
    "os.environ[\"CUDA_VISIBLE_DEVICES\"] = \"1\"\n",
    "import matplotlib.pyplot as plt\n",
    "import scipy.misc\n",
    "import sklearn.feature_extraction\n",
    "import numpy as np\n",
    "import scipy.ndimage\n",
    "import scipy.signal\n",
    "from skimage import measure, io\n",
    "from skimage import transform\n",
    "import train_UNET_2_input \n",
    "import skimage\n",
    "import json\n",
    "import datetime\n",
    "import pickle\n",
    "import tensorflow as tf\n",
    "import cv2\n",
    "\n",
    "epoch_cb_dir = r'C:\\Users\\buggyr\\Mosaic_Experiments\\data\\interim\\Callback_images'\n",
    "save_results = r'C:\\Users\\buggyr\\Mosaic_Experiments\\models'\n",
    "load_training = r'C:\\Users\\buggyr\\Mosaic_Experiments\\data\\external\\Gharbi_tiled'\n",
    "load_validation = r'C:\\Users\\buggyr\\Mosaic_Experiments\\data\\external\\Val_data'"
   ]
  },
  {
   "cell_type": "code",
   "execution_count": 2,
   "metadata": {
    "collapsed": true
   },
   "outputs": [],
   "source": [
    "import keras\n",
    "from keras.models import *\n",
    "from keras.models import Sequential\n",
    "from keras.layers import (Conv2D, Activation, UpSampling2D,Reshape, MaxPooling2D,\n",
    "Dropout, Cropping2D, merge, Input, concatenate, Conv2DTranspose, Lambda, Flatten,\n",
    "                         Dense, LeakyReLU)\n",
    "from keras.optimizers import Adadelta, Nadam, RMSprop, Adam\n",
    "from keras.models import load_model"
   ]
  },
  {
   "cell_type": "code",
   "execution_count": 6,
   "metadata": {
    "collapsed": true
   },
   "outputs": [],
   "source": [
    "train_generator = train_UNET_2_input.train_generator_rgb_tiled(load_training, 64, 32)\n",
    "validation_generator = train_UNET_2_input.train_generator_rgb_tiled(load_validation, 64, 32)\n",
    "\n",
    "inputs, input_orig = next(train_generator)\n",
    "\n",
    "good_gen_path = r'C:\\Users\\buggyr\\Mosaic_Experiments\\models\\2018-02-07 20-22_UNET_2_layer_64x64_logcosh_normal1_Patterns+Gharbi_2_input_strides+upsample\\Epoch_Models\\model.111-0.00.hdf5'\n",
    "\n",
    "model = keras.models.load_model(good_gen_path)"
   ]
  },
  {
   "cell_type": "code",
   "execution_count": 35,
   "metadata": {},
   "outputs": [
    {
     "name": "stdout",
     "output_type": "stream",
     "text": [
      "37.398763749686495\n",
      "37.278940081434435\n",
      "36.13289588229641\n",
      "34.158073577292825\n",
      "30.803020338334438\n",
      "36.94382306992316\n",
      "35.2468829551716\n",
      "40.741387267387736\n",
      "39.29195231812368\n",
      "37.42747549779244\n",
      "36.845164795079\n",
      "27.300754090732873\n",
      "36.97804769479694\n",
      "28.59938382234215\n",
      "38.938188211711605\n",
      "35.69337894220558\n",
      "39.000059221507556\n",
      "38.57940588575236\n",
      "39.52407426634142\n",
      "36.92429193455412\n",
      "35.37242864603273\n",
      "36.03364977933878\n",
      "38.835691138656955\n",
      "33.27318735874907\n",
      "39.3454937841463\n",
      "39.33099097557927\n",
      "34.73322594258191\n",
      "35.64840352572537\n",
      "33.55500703302033\n",
      "28.565154855437175\n",
      "29.073126109938254\n",
      "39.4277722852399\n"
     ]
    }
   ],
   "source": [
    "save_path = r'C:\\Users\\buggyr\\Mosaic_Experiments\\data\\processed\\Temp_generated_patches'\n",
    "gen_batch = model.predict_on_batch(inputs)\n",
    "\n",
    "for idx, i in enumerate(gen_batch):\n",
    "    cv2.imwrite(os.path.join(save_path, 'generated_img'+str(idx)+'.png'), train_UNET_2_input.denormalise1(i))\n",
    "    cv2.imwrite(os.path.join(save_path, 'Original_img'+str(idx)+'.png'), train_UNET_2_input.denormalise1(input_orig[idx]))\n",
    "    print(skimage.measure.compare_psnr(input_orig[idx], gen_batch[idx], 1))"
   ]
  },
  {
   "cell_type": "code",
   "execution_count": 44,
   "metadata": {
    "collapsed": true
   },
   "outputs": [],
   "source": [
    "fft = np.absolute(np.fft.fft2(gen_batch[18]))\n",
    "\n",
    "train_UNET_2_input.show_image(fft)"
   ]
  },
  {
   "cell_type": "code",
   "execution_count": 129,
   "metadata": {},
   "outputs": [
    {
     "name": "stdout",
     "output_type": "stream",
     "text": [
      "mse:  6.510819245879872e-08\n"
     ]
    }
   ],
   "source": [
    "f1 = matlab_style_gauss2D(shape = (128,128),sigma=0.5)\n",
    "f1 = np.stack([f1, f1, f1], axis = -1)\n",
    "\n",
    "fx = gen_batch[18]\n",
    "fx1 = (fx - fx.mean(axis=(0,-2,-1), keepdims=1))*f1\n",
    "y_pred = np.absolute(np.fft.fft2(fx1))\n",
    "\n",
    "y = input_orig[18]\n",
    "y_avg = np.mean(y, axis=-1)\n",
    "y1 = (y - y.mean(axis=(0,-2,-1), keepdims=1))*f1\n",
    "y_true = np.absolute(np.fft.fft2(y1))\n",
    "            \n",
    "mse = np.mean((y_true - y_pred)**2)\n",
    "print('mse: ', str(mse))"
   ]
  },
  {
   "cell_type": "code",
   "execution_count": 134,
   "metadata": {},
   "outputs": [
    {
     "data": {
      "text/plain": [
       "0.032037884"
      ]
     },
     "execution_count": 134,
     "metadata": {},
     "output_type": "execute_result"
    }
   ],
   "source": [
    "np.mean((fx - y)**2)"
   ]
  },
  {
   "cell_type": "code",
   "execution_count": 60,
   "metadata": {
    "collapsed": true
   },
   "outputs": [],
   "source": [
    "def matlab_style_gauss2D(shape=(3,3),sigma=0.5):\n",
    "    \"\"\"\n",
    "    2D gaussian mask - should give the same result as MATLAB's\n",
    "    fspecial('gaussian',[shape],[sigma])\n",
    "    \"\"\"\n",
    "    m,n = [(ss-1.)/2. for ss in shape]\n",
    "    y,x = np.ogrid[-m:m+1,-n:n+1]\n",
    "    h = np.exp( -(x*x + y*y) / (2.*sigma*sigma) )\n",
    "    h[ h < np.finfo(h.dtype).eps*h.max() ] = 0\n",
    "    sumh = h.sum()\n",
    "    if sumh != 0:\n",
    "        h /= sumh\n",
    "    return h\n"
   ]
  },
  {
   "cell_type": "code",
   "execution_count": 73,
   "metadata": {},
   "outputs": [
    {
     "data": {
      "text/plain": [
       "0.24108486166143514"
      ]
     },
     "execution_count": 73,
     "metadata": {},
     "output_type": "execute_result"
    }
   ],
   "source": []
  },
  {
   "cell_type": "code",
   "execution_count": null,
   "metadata": {
    "collapsed": true
   },
   "outputs": [],
   "source": []
  }
 ],
 "metadata": {
  "kernelspec": {
   "display_name": "Python 3",
   "language": "python",
   "name": "python3"
  },
  "language_info": {
   "codemirror_mode": {
    "name": "ipython",
    "version": 3
   },
   "file_extension": ".py",
   "mimetype": "text/x-python",
   "name": "python",
   "nbconvert_exporter": "python",
   "pygments_lexer": "ipython3",
   "version": "3.6.3"
  }
 },
 "nbformat": 4,
 "nbformat_minor": 2
}
