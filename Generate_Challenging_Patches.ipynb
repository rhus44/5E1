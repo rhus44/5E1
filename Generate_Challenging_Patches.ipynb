{
 "cells": [
  {
   "cell_type": "code",
   "execution_count": null,
   "metadata": {
    "collapsed": true
   },
   "outputs": [],
   "source": [
    "import os\n",
    "os.environ[\"CUDA_VISIBLE_DEVICES\"] = \"0\"\n",
    "import matplotlib.pyplot as plt\n",
    "import scipy.misc\n",
    "import sklearn.feature_extraction\n",
    "import numpy as np\n",
    "import scipy.ndimage\n",
    "from skimage import measure, io\n",
    "from skimage import transform\n",
    "import train_rgb \n",
    "import skimage\n",
    "import json\n",
    "import datetime\n",
    "import pickle\n",
    "import tensorflow as tf\n",
    "\n",
    "\n",
    "save_chal_ptchs = r'C:\\Users\\buggyr\\Mosaic_Experiments\\data\\processed\\Challenging_Patches'\n",
    "load_training = r'C:\\Users\\buggyr\\Mosaic_Experiments\\data\\external\\Training Images 3'"
   ]
  },
  {
   "cell_type": "code",
   "execution_count": null,
   "metadata": {
    "collapsed": true
   },
   "outputs": [],
   "source": [
    "import keras\n",
    "from keras.models import *\n",
    "from keras.models import Sequential\n",
    "from keras.layers import Conv2D, Activation, UpSampling2D,Reshape, MaxPooling2D, Dropout, Cropping2D, merge, Input, concatenate, Conv2DTranspose\n",
    "from keras.optimizers import Adadelta, Nadam, RMSprop\n",
    "from keras.models import load_model\n"
   ]
  },
  {
   "cell_type": "code",
   "execution_count": null,
   "metadata": {
    "collapsed": true
   },
   "outputs": [],
   "source": [
    "#load model\n",
    "model = keras.models.load_model(r'C:\\Users\\buggyr\\Mosaic_Experiments\\models\\2017-11-21 13-40 RGB_ptch64\\DeMos_mod.h5')\n",
    "\n",
    "#define patches\n",
    "patch_size = 64 \n",
    "batch_size = 32\n",
    "\n",
    "fls = len(os.listdir(load_training))\n",
    "patchs_generator = train_rgb.train_generator_rgb(load_training, patch_size, batch_size)\n",
    "\n",
    "#generate predictions and store challenging patches\n",
    "train_rgb.predict_chal_patchs(model,patchs_generator,3*fls,save_chal_ptchs)\n"
   ]
  }
 ],
 "metadata": {
  "kernelspec": {
   "display_name": "Python 3",
   "language": "python",
   "name": "python3"
  },
  "language_info": {
   "codemirror_mode": {
    "name": "ipython",
    "version": 3
   },
   "file_extension": ".py",
   "mimetype": "text/x-python",
   "name": "python",
   "nbconvert_exporter": "python",
   "pygments_lexer": "ipython3",
   "version": "3.6.3"
  }
 },
 "nbformat": 4,
 "nbformat_minor": 2
}
